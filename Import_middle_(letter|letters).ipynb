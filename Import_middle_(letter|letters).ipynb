{
  "nbformat": 4,
  "nbformat_minor": 0,
  "metadata": {
    "colab": {
      "name": " Import middle (letter|letters).ipynb",
      "version": "0.3.2",
      "provenance": [],
      "collapsed_sections": [],
      "include_colab_link": true
    },
    "kernelspec": {
      "name": "python3",
      "display_name": "Python 3"
    }
  },
  "cells": [
    {
      "cell_type": "markdown",
      "metadata": {
        "id": "view-in-github",
        "colab_type": "text"
      },
      "source": [
        "<a href=\"https://colab.research.google.com/github/YoonkyungKim/algorithm_datastructure/blob/master/Import_middle_(letter%7Cletters).ipynb\" target=\"_parent\"><img src=\"https://colab.research.google.com/assets/colab-badge.svg\" alt=\"Open In Colab\"/></a>"
      ]
    },
    {
      "metadata": {
        "id": "sFVdXGvRBZNn",
        "colab_type": "text"
      },
      "cell_type": "markdown",
      "source": [
        "**programmers 알고리즘 연습 - 가운데 글자 가져오기**\n",
        "\n",
        "단어 s의 가운데 글자를 반환하는 함수, solution을 만들어 보세요. 단어의 길이가 짝수라면 가운데 두글자를 반환하면 됩니다.\n",
        "\n",
        "제한사항\n",
        "s는 길이가 1 이상, 100이하인 스트링입니다.\n"
      ]
    },
    {
      "metadata": {
        "id": "uxvNGatLfoml",
        "colab_type": "code",
        "colab": {}
      },
      "cell_type": "code",
      "source": [
        "def solution(s):\n",
        "    div_two = len(s)//2\n",
        "    if len(s)%2 == 1:\n",
        "        answer = s[div_two]\n",
        "    if len(s)%2 == 0:\n",
        "        answer = s[div_two-1:div_two+1]\n",
        "    return answer"
      ],
      "execution_count": 0,
      "outputs": []
    },
    {
      "metadata": {
        "id": "j_QOuWQB564U",
        "colab_type": "code",
        "colab": {
          "base_uri": "https://localhost:8080/",
          "height": 35
        },
        "outputId": "af1312c3-a92e-4696-f756-8e83748074c3"
      },
      "cell_type": "code",
      "source": [
        "solution('abcde')"
      ],
      "execution_count": 28,
      "outputs": [
        {
          "output_type": "execute_result",
          "data": {
            "text/plain": [
              "'c'"
            ]
          },
          "metadata": {
            "tags": []
          },
          "execution_count": 28
        }
      ]
    },
    {
      "metadata": {
        "id": "PrZQgpBT5_i6",
        "colab_type": "code",
        "colab": {
          "base_uri": "https://localhost:8080/",
          "height": 35
        },
        "outputId": "5db4ccc1-c350-435a-8e64-e41cd910f38c"
      },
      "cell_type": "code",
      "source": [
        "solution('abcd')"
      ],
      "execution_count": 29,
      "outputs": [
        {
          "output_type": "execute_result",
          "data": {
            "text/plain": [
              "'bc'"
            ]
          },
          "metadata": {
            "tags": []
          },
          "execution_count": 29
        }
      ]
    },
    {
      "metadata": {
        "id": "sGk8cCno6eX3",
        "colab_type": "code",
        "colab": {}
      },
      "cell_type": "code",
      "source": [
        "def solution(s):\n",
        "    div, mod = divmod(len(s), 2)\n",
        "    if mod == 1:\n",
        "        answer = s[div]\n",
        "    if mod == 0:\n",
        "        answer = s[div-1]+s[div]\n",
        "    return answer"
      ],
      "execution_count": 0,
      "outputs": []
    },
    {
      "metadata": {
        "id": "a9iWptqg9eT6",
        "colab_type": "code",
        "colab": {}
      },
      "cell_type": "code",
      "source": [
        "def solution(s):\n",
        "    div, mod = divmod(len(s), 2)\n",
        "    if mod == 1:\n",
        "        answer = s[div]\n",
        "    if mod == 0:\n",
        "        answer = s[div-1: div+1]  # 인덱스 슬라이싱을 이용하는 걸로 고침\n",
        "    return answer"
      ],
      "execution_count": 0,
      "outputs": []
    },
    {
      "metadata": {
        "id": "YcWjsyMQ65TE",
        "colab_type": "code",
        "colab": {
          "base_uri": "https://localhost:8080/",
          "height": 35
        },
        "outputId": "593bca59-e0c8-4058-a2ae-9d4357dcae60"
      },
      "cell_type": "code",
      "source": [
        "solution('abcde')"
      ],
      "execution_count": 31,
      "outputs": [
        {
          "output_type": "execute_result",
          "data": {
            "text/plain": [
              "'c'"
            ]
          },
          "metadata": {
            "tags": []
          },
          "execution_count": 31
        }
      ]
    },
    {
      "metadata": {
        "id": "4rOAziWN66hD",
        "colab_type": "code",
        "colab": {
          "base_uri": "https://localhost:8080/",
          "height": 35
        },
        "outputId": "4f846e9b-e639-49b4-d841-dee039d951e7"
      },
      "cell_type": "code",
      "source": [
        "solution('abcd')"
      ],
      "execution_count": 32,
      "outputs": [
        {
          "output_type": "execute_result",
          "data": {
            "text/plain": [
              "'bc'"
            ]
          },
          "metadata": {
            "tags": []
          },
          "execution_count": 32
        }
      ]
    },
    {
      "metadata": {
        "id": "lv98ql1667h0",
        "colab_type": "code",
        "colab": {}
      },
      "cell_type": "code",
      "source": [
        "# 모범 답안\n",
        "def solution(s):\n",
        "\n",
        "    return s[(len(s)-1)//2:len(s)//2+1]"
      ],
      "execution_count": 0,
      "outputs": []
    },
    {
      "metadata": {
        "id": "1aeVOjO0B49q",
        "colab_type": "code",
        "colab": {
          "base_uri": "https://localhost:8080/",
          "height": 35
        },
        "outputId": "f148cc2d-7a1c-4ec5-88e5-2c708ff36679"
      },
      "cell_type": "code",
      "source": [
        "solution('abcde')"
      ],
      "execution_count": 36,
      "outputs": [
        {
          "output_type": "execute_result",
          "data": {
            "text/plain": [
              "'c'"
            ]
          },
          "metadata": {
            "tags": []
          },
          "execution_count": 36
        }
      ]
    },
    {
      "metadata": {
        "id": "9qKJEkFBB8rL",
        "colab_type": "code",
        "colab": {
          "base_uri": "https://localhost:8080/",
          "height": 35
        },
        "outputId": "6c5af3b3-c865-4f33-bea6-fde9fd7ca70e"
      },
      "cell_type": "code",
      "source": [
        "solution('abcd')"
      ],
      "execution_count": 37,
      "outputs": [
        {
          "output_type": "execute_result",
          "data": {
            "text/plain": [
              "'bc'"
            ]
          },
          "metadata": {
            "tags": []
          },
          "execution_count": 37
        }
      ]
    },
    {
      "metadata": {
        "id": "NSYN1jidCC8i",
        "colab_type": "text"
      },
      "cell_type": "markdown",
      "source": [
        "**인덱스 슬라이싱 예시**"
      ]
    },
    {
      "metadata": {
        "id": "S9WokWBE7ltW",
        "colab_type": "code",
        "colab": {
          "base_uri": "https://localhost:8080/",
          "height": 35
        },
        "outputId": "cf57c0cd-17a3-4b3b-deec-dd6547e6ed10"
      },
      "cell_type": "code",
      "source": [
        "power = 'power'\n",
        "power[2:3]"
      ],
      "execution_count": 41,
      "outputs": [
        {
          "output_type": "execute_result",
          "data": {
            "text/plain": [
              "'w'"
            ]
          },
          "metadata": {
            "tags": []
          },
          "execution_count": 41
        }
      ]
    },
    {
      "metadata": {
        "id": "eZKQIGGR73aH",
        "colab_type": "code",
        "colab": {
          "base_uri": "https://localhost:8080/",
          "height": 35
        },
        "outputId": "659e6206-8d1b-4eb3-8788-892d756528bd"
      },
      "cell_type": "code",
      "source": [
        "some = 'some'\n",
        "some[1:3]"
      ],
      "execution_count": 42,
      "outputs": [
        {
          "output_type": "execute_result",
          "data": {
            "text/plain": [
              "'om'"
            ]
          },
          "metadata": {
            "tags": []
          },
          "execution_count": 42
        }
      ]
    },
    {
      "metadata": {
        "id": "0AyA8dpKCMKb",
        "colab_type": "code",
        "colab": {
          "base_uri": "https://localhost:8080/",
          "height": 35
        },
        "outputId": "6755fa57-ec39-4450-9dc6-e0320584f2ca"
      },
      "cell_type": "code",
      "source": [
        "power[1:4:2]"
      ],
      "execution_count": 47,
      "outputs": [
        {
          "output_type": "execute_result",
          "data": {
            "text/plain": [
              "'oe'"
            ]
          },
          "metadata": {
            "tags": []
          },
          "execution_count": 47
        }
      ]
    },
    {
      "metadata": {
        "id": "HzckzvghCc08",
        "colab_type": "code",
        "colab": {
          "base_uri": "https://localhost:8080/",
          "height": 35
        },
        "outputId": "ebd30b00-fe13-41d6-996d-d1d0a5391139"
      },
      "cell_type": "code",
      "source": [
        "power[::-1]"
      ],
      "execution_count": 48,
      "outputs": [
        {
          "output_type": "execute_result",
          "data": {
            "text/plain": [
              "'rewop'"
            ]
          },
          "metadata": {
            "tags": []
          },
          "execution_count": 48
        }
      ]
    }
  ]
}