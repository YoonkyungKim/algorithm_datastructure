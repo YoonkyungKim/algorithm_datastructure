{
  "nbformat": 4,
  "nbformat_minor": 0,
  "metadata": {
    "colab": {
      "name": "Sort strings as you like 문자열 내 마음대로 정렬하기.ipynb",
      "version": "0.3.2",
      "provenance": [],
      "collapsed_sections": [],
      "include_colab_link": true
    },
    "kernelspec": {
      "name": "python3",
      "display_name": "Python 3"
    }
  },
  "cells": [
    {
      "cell_type": "markdown",
      "metadata": {
        "id": "view-in-github",
        "colab_type": "text"
      },
      "source": [
        "<a href=\"https://colab.research.google.com/github/YoonkyungKim/algorithm_datastructure/blob/master/Sort_strings_as_you_like_%EB%AC%B8%EC%9E%90%EC%97%B4_%EB%82%B4_%EB%A7%88%EC%9D%8C%EB%8C%80%EB%A1%9C_%EC%A0%95%EB%A0%AC%ED%95%98%EA%B8%B0.ipynb\" target=\"_parent\"><img src=\"https://colab.research.google.com/assets/colab-badge.svg\" alt=\"Open In Colab\"/></a>"
      ]
    },
    {
      "metadata": {
        "id": "v04O6O_XTC4P",
        "colab_type": "text"
      },
      "cell_type": "markdown",
      "source": [
        "# 문자열 내 마음대로 정렬하기  \n",
        "문자열로 구성된 리스트 strings와, 정수 n이 주어졌을 때, 각 문자열의 인덱스 n번째 글자를 기준으로 오름차순 정렬하려 합니다. 예를 들어 strings가 [sun, bed, car]이고 n이 1이면 각 단어의 인덱스 1의 문자 u, e, a로 strings를 정렬합니다.  \n",
        "\n",
        "\n",
        "> **제한 조건**  \n",
        "strings는 길이 1 이상, 50이하인 배열입니다.  \n",
        "strings의 원소는 소문자 알파벳으로 이루어져 있습니다.  \n",
        "strings의 원소는 길이 1 이상, 100이하인 문자열입니다.  \n",
        "모든 strings의 원소의 길이는 n보다 큽니다.  \n",
        "인덱스 1의 문자가 같은 문자열이 여럿 일 경우, 사전순으로 앞선 문자열이 앞쪽에 위치합니다.  \n",
        "\n",
        "\n",
        "> **입출력 예**  \n",
        "strings ---------------- n --------- return  \n",
        "[sun, bed, car] ------\t1\t------- [car, bed, sun]  \n",
        "[abce, abcd, cdx] ---\t2\t--- [abcd, abce, cdx]  \n",
        "\n",
        "\n",
        "> **입출력 예 설명**  \n",
        "- 입출력 예 1  \n",
        "sun, bed, car의 1번째 인덱스 값은 각각 u, e, a 입니다. 이를 기준으로 strings를 정렬하면 [car, bed, sun] 입니다. \n",
        "- 입출력 예 2  \n",
        "abce와 abcd, cdx의 2번째 인덱스 값은 c, c, x입니다. 따라서 정렬 후에는 cdx가 가장 뒤에 위치합니다. abce와 abcd는 사전순으로 정렬하면 abcd가 우선하므로, 답은 [abcd, abce, cdx] 입니다.\n",
        "  \n",
        "\n"
      ]
    },
    {
      "metadata": {
        "id": "U7FzUFcfWlh_",
        "colab_type": "text"
      },
      "cell_type": "markdown",
      "source": [
        "** 사고 과정 **   \n",
        "n번째 index를 기준으로 sort 하는 것은\n",
        "\n",
        "from operator import itemgetter 를 해준 후  \n",
        "\n",
        "strings.sort(key=itemgetter(n))  \n",
        "이 코드를 통해 쉽게 하였다.  \n",
        "  \n",
        "문제는 테스트 케이스 2의 abce, abcd 처럼 n번째의 값이 같은 경우 그 다음 index의 엘리먼트를 기준으로 정렬하는 것이었다.  \n",
        "중첩 소트 방법으로 다음 인덱스 기준으로 소트하고 다시 n번째 인덱스로 해주면 되겠군! 했는데 다음 인덱스가 없는 경우도 있어서 실패!  \n",
        "계속 다음 인덱스.. 라는 생각으로만 접근했는데  \n",
        "strings.sort() 로 걍 소트를 먼저 해주면 되는 것이었음을..  \n",
        "(혹은 strings.sort(key=lambda x: [x]))  "
      ]
    },
    {
      "metadata": {
        "id": "ahGdOTbKMjSm",
        "colab_type": "text"
      },
      "cell_type": "markdown",
      "source": [
        "사용한 방법:\n",
        "## 중첩 소트\n",
        "이번에는 중첩해서 소트를 해야하는 경우에 대해서 알아보자.\n",
        "\n",
        "위 두번째 예제에서 먼저 \"성적\"으로 소트하고 \"성적\"이 같을 경우 나이순으로 소트해야 한다고 가정해 보자.\n",
        "\n",
        "만약 성적으로 소트를 하고 그 다음에 나이순으로 소트한다면 어떻게 될까?\n",
        "\n",
        "> result = sorted(student_objects, key=attrgetter('grade'))\n",
        "> sorted(result, key=attrgetter('age'))\n",
        "[('sally', 17, 'B'), ('jane', 22, 'A'), ('dave', 32, 'B')]  \n",
        "다시 나이순으로 재 정렬되어 이미 \"성적\"으로 소트했던 결과가 무시되어 버린다.\n",
        "\n",
        "이렇게 \"성적\"으로 소트하고 \"성적\"이 같을 경우 \"나이\"로 소트해야 할 경우에는 순서를 뒤 바꾸어 소트를 해 주면 된다. 즉 \"나이\"로 먼저 소트하고 그 다음에 \"성적\"으로 소트를 하면 된다.\n",
        "\n",
        "> result = sorted(student_objects, key=attrgetter('age'))\n",
        "> sorted(result, key=attrgetter('grade'))\n",
        "[('jane', 22, 'A'), ('sally', 17, 'B'), ('dave', 32, 'B')]  \n",
        "이렇게 순서를 바꾸어 소트를 해 주어야 제대로 된 결과를 얻을 수 있게 된다.\n",
        "\n",
        "이것이 가능한 이유는 소트할 때 기존의 순서를 그대로 유지하는(stable) 특성이 있기 때문이다. 위 예에서 보면 sally와 dave의 \"성적\"은 동일하지만 \"나이\"로 먼저 소트를 해 놓았기 때문에 그 순서가 유지되어 있는 것이다.\n",
        "\n",
        "출처 : 점프 투 파이썬 07-6 소트 https://wikidocs.net/15115"
      ]
    },
    {
      "metadata": {
        "id": "x1nQIEY_r2Ms",
        "colab_type": "code",
        "colab": {}
      },
      "cell_type": "code",
      "source": [
        "# 테스트 케이스 1\n",
        "str = ['abce', 'abcd', 'cdx']"
      ],
      "execution_count": 0,
      "outputs": []
    },
    {
      "metadata": {
        "id": "xCIBFy8ernZV",
        "colab_type": "code",
        "colab": {}
      },
      "cell_type": "code",
      "source": [
        "# 통과 코드\n",
        "from operator import itemgetter\n",
        "\n",
        "def solution(strings, n):\n",
        "    strings.sort()\n",
        "    # strings.sort(key=lambda x: [x])\n",
        "    # 위 두 개의 코드는 같은 역할을 함!\n",
        "    strings.sort(key=itemgetter(n))\n",
        "    return strings"
      ],
      "execution_count": 0,
      "outputs": []
    },
    {
      "metadata": {
        "id": "CZvPrzKFRycN",
        "colab_type": "code",
        "outputId": "7e92ee5c-bd56-45de-9930-ea0d6009cedf",
        "colab": {
          "base_uri": "https://localhost:8080/",
          "height": 35
        }
      },
      "cell_type": "code",
      "source": [
        "solution(str, 2)"
      ],
      "execution_count": 0,
      "outputs": [
        {
          "output_type": "execute_result",
          "data": {
            "text/plain": [
              "['abcd', 'abce', 'cdx']"
            ]
          },
          "metadata": {
            "tags": []
          },
          "execution_count": 23
        }
      ]
    },
    {
      "metadata": {
        "id": "ABhy93z0Pn-Z",
        "colab_type": "code",
        "colab": {}
      },
      "cell_type": "code",
      "source": [
        "# 같은 방식, 좀 더 짧은 코드\n",
        "def solution(strings, n):\n",
        "  return sorted(sorted(strings), key=itemgetter(n))"
      ],
      "execution_count": 0,
      "outputs": []
    },
    {
      "metadata": {
        "id": "KLRcBqJoX6Rc",
        "colab_type": "code",
        "colab": {}
      },
      "cell_type": "code",
      "source": [
        "# 테스트 케이스 2\n",
        "strings = ['sun', 'bed', 'car']"
      ],
      "execution_count": 0,
      "outputs": []
    },
    {
      "metadata": {
        "id": "ELOzrqpVSNOF",
        "colab_type": "code",
        "outputId": "264f49ba-6ef3-4b7f-ce23-d9fa8864aed0",
        "colab": {
          "base_uri": "https://localhost:8080/",
          "height": 35
        }
      },
      "cell_type": "code",
      "source": [
        "solution(strings, 1)"
      ],
      "execution_count": 0,
      "outputs": [
        {
          "output_type": "execute_result",
          "data": {
            "text/plain": [
              "['car', 'bed', 'sun']"
            ]
          },
          "metadata": {
            "tags": []
          },
          "execution_count": 25
        }
      ]
    },
    {
      "metadata": {
        "colab_type": "code",
        "id": "SXzYHHmbQrYU",
        "colab": {}
      },
      "cell_type": "code",
      "source": [
        "# 아래 두 코드는 같은 역할. 아마도 아래 코드가 더 빠름.\n",
        "str.sort(key=lambda x: x[n])\n",
        "str.sort(key=itemgetter(n))"
      ],
      "execution_count": 0,
      "outputs": []
    },
    {
      "metadata": {
        "id": "6zCtFowBaMBy",
        "colab_type": "code",
        "outputId": "dbf622c9-a37d-4071-c20c-ae3884da274b",
        "colab": {
          "base_uri": "https://localhost:8080/",
          "height": 35
        }
      },
      "cell_type": "code",
      "source": [
        "L=[[0, 1, 'f'], [4, 2, 't'], [9, 4, 'afsd']]\n",
        "sorted(L, key=itemgetter(2))"
      ],
      "execution_count": 0,
      "outputs": [
        {
          "output_type": "execute_result",
          "data": {
            "text/plain": [
              "[[9, 4, 'afsd'], [0, 1, 'f'], [4, 2, 't']]"
            ]
          },
          "metadata": {
            "tags": []
          },
          "execution_count": 26
        }
      ]
    },
    {
      "metadata": {
        "id": "DgoNMQ3WhNBn",
        "colab_type": "code",
        "outputId": "6e94056d-dcc7-4593-ece5-35af29152a1d",
        "colab": {
          "base_uri": "https://localhost:8080/",
          "height": 35
        }
      },
      "cell_type": "code",
      "source": [
        "# 다른 방법인데 쓸 일 있을까?\n",
        "def getKey(item):\n",
        "    return item[0]\n",
        "\n",
        "str = ('abce', 'abcd', 'cdx')\n",
        "# a = ((2, 3), (6, 7), (3, 34), (24, 64), (1, 43))\n",
        "sorted(str, key=getKey)"
      ],
      "execution_count": 0,
      "outputs": [
        {
          "output_type": "execute_result",
          "data": {
            "text/plain": [
              "['abce', 'abcd', 'cdx']"
            ]
          },
          "metadata": {
            "tags": []
          },
          "execution_count": 16
        }
      ]
    }
  ]
}